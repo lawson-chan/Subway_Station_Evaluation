{
 "cells": [
  {
   "cell_type": "code",
   "execution_count": 83,
   "metadata": {},
   "outputs": [],
   "source": [
    "import pandas as pd\n",
    "pd.options.mode.chained_assignment = None  # 将SettingWithCopyWarning隐藏\n",
    "import numpy as np\n",
    "import os,math,time,re\n",
    "from pathlib import Path\n",
    "from sklearn.preprocessing import MinMaxScaler#归一化\n",
    "scaler = MinMaxScaler()#归一化\n",
    "shijian = time.strftime('%Y-%m-%d',time.localtime(time.time()))"
   ]
  },
  {
   "attachments": {},
   "cell_type": "markdown",
   "metadata": {},
   "source": [
    "```python\n",
    "步骤：\n",
    "    1. 读取数据\n",
    "    2. 处理数据\n",
    "        2.1 过滤未开通的线路站点，只统计已开通的线路，因为未开通的线路对站点换乘的数量及站台数量都可能产生影响\n",
    "        2.2 线路名称处理，去除外圈，内圈等影响线路数量判断的词\n",
    "        2.3 站台数量处理，统计相同城市相同站点名称但经纬度不同的数量作为站台数量值\n",
    "        2.4 站点换乘线路数量统计，统计经过线路的名称唯一值。处理线路分叉(Y叉及X叉)，环线\n",
    "        2.5 站点分数赋值\n",
    "    3. 数据指标归一（每个站点的归一化操作都以站点所在的线路作为基准）\n",
    "        3.1 站点所在位置的分数归一化（中间站分数为线路的站点数量，往两边递减）\n",
    "        3.2 站点可换成线路数量的归一化\n",
    "        3.3 站点包含站台数量的归一化\n",
    "    4. 站点去重--根据线路将站点归一化后的分数进行相加，得到最终的站点分数\n",
    "    5. 权重比测试\n",
    "    6. 结果验证\n",
    "```"
   ]
  },
  {
   "cell_type": "code",
   "execution_count": 160,
   "metadata": {},
   "outputs": [],
   "source": [
    "#1. 读取数据\n",
    "df = pd.read_csv('./subway_station_raw_2023-06-01.csv')\n",
    "df.fillna('',inplace=True)"
   ]
  },
  {
   "cell_type": "code",
   "execution_count": 161,
   "metadata": {},
   "outputs": [
    {
     "name": "stdout",
     "output_type": "stream",
     "text": [
      "全量地铁站数量： 9629\n",
      "已开通地铁站数量： 9003\n"
     ]
    }
   ],
   "source": [
    "#2 处理数据\n",
    "#2.1 过滤未开通的线路站点\n",
    "data = df[df['line_open_status']==1]\n",
    "print('全量地铁站数量：',len(df))\n",
    "print('已开通地铁站数量：',len(data))\n",
    "#未进行地铁站去重处理，每个方向的地铁线路的站点都会计算一次，后面的数据流程会处理"
   ]
  },
  {
   "cell_type": "code",
   "execution_count": 162,
   "metadata": {},
   "outputs": [],
   "source": [
    "#2.2 线路名称处理，去除影响判断的特殊词\n",
    "#2.3 站台数量统计,通过poiid进行分组，并统计pointx或pointy的唯一值数量【因为站点的位置决定其是否为相同站台】:platform_count_final\n",
    "\n",
    "\n",
    "platforms = data.groupby('poiid')['pointx'].nunique()#2.3\n",
    "\n",
    "for index,row in data.iterrows():\n",
    "    name_raw = row['line_name']\n",
    "    pattern = r'\\(.*?\\)|（.*?）'\n",
    "    line_name_clean = re.sub(pattern, '', name_raw)\n",
    "    data.loc[index,'platform_count_final'] = platforms[row['poiid']]\n",
    "    data.loc[index,'line_name_clean'] = line_name_clean.replace('外环','').replace('内环','').replace('外圈','').replace('内圈','')\n",
    "\n"
   ]
  },
  {
   "cell_type": "code",
   "execution_count": 163,
   "metadata": {},
   "outputs": [],
   "source": [
    "#2.4 站点可换成线路数量统计:trans_count_final\n",
    "trans_lines = pd.DataFrame(data.groupby(['poiid'])['line_name_clean'].nunique())#2.4\n",
    "trans_lines.rename(columns={'line_name_clean':'trans_count_final'},inplace=True)\n",
    "data = pd.merge(data,trans_lines,on='poiid')"
   ]
  },
  {
   "cell_type": "code",
   "execution_count": 164,
   "metadata": {},
   "outputs": [],
   "source": [
    "#2.5 计算每条线路的中间站点分值,全线路需要进行归一化处理，所以可以保留线路站点数量值作为最大值\n",
    "line_score = {}#存储每条线路的最大值\n",
    "middle_index = {}#存储每条线路的中间站点index\n",
    "for line_uid in data['line_uid'].unique():\n",
    "    line_data = data[data['line_uid'] == line_uid]#获取每条线路的数据表\n",
    "    line_length = len(line_data)\n",
    "    max_score = line_length\n",
    "    midd_index = math.ceil(line_length/2)\n",
    "    line_score[line_uid] = max_score\n",
    "    middle_index[line_uid] = midd_index"
   ]
  },
  {
   "cell_type": "code",
   "execution_count": 165,
   "metadata": {},
   "outputs": [],
   "source": [
    "#2.5 给每个站点赋值所在位置的分数:station_score\n",
    "for index, row in data.iterrows():\n",
    "    #获取线路最大评分及中间站索引\n",
    "    line_max_score = int(line_score[row['line_uid']])\n",
    "    mid_index = int(middle_index[row['line_uid']])\n",
    "\n",
    "    if  row['stations_count'] % 2 ==0:#判断中间站为偶数，表示线路的站点数量为偶数\n",
    "        if row['station_index']<=mid_index:#站点位于中间站左侧\n",
    "            station_score = line_max_score-(mid_index-row['station_index'])\n",
    "        elif row['station_index']==mid_index +1:\n",
    "            station_score = line_max_score\n",
    "        else:\n",
    "            station_score = line_max_score -abs(row['station_index']-mid_index-1)\n",
    "    else:#判断中间站为基数,表示线路的站点数量为奇数\n",
    "        if row['station_index']<=mid_index:#站点位于中间站左侧\n",
    "            station_score = line_max_score-(mid_index-row['station_index'])\n",
    "        else:\n",
    "            station_score = line_max_score - abs(row['station_index']-mid_index)\n",
    "    data.loc[index,'station_score'] = station_score\n",
    "    # data.loc[index,'mid_index'] = mid_index\n",
    "    # data.loc[index,'line_max_score'] = line_max_score"
   ]
  },
  {
   "cell_type": "code",
   "execution_count": 171,
   "metadata": {},
   "outputs": [],
   "source": [
    "#3. 数据指标归一化\n",
    "#3.1 将每条单独线路的站点分数归一化\n",
    "station_score_normalized = pd.DataFrame()\n",
    "for line_uid in data['line_uid'].unique():\n",
    "    line_data = data[data['line_uid'] == line_uid]#获取每条线路的数据表\n",
    "    line_data['station_score_normalized'] = scaler.fit_transform(line_data[['station_score']])\n",
    "    station_score_normalized = pd.concat([station_score_normalized,line_data])"
   ]
  },
  {
   "cell_type": "code",
   "execution_count": 172,
   "metadata": {},
   "outputs": [],
   "source": [
    "#3.1.1 合并表格，根据列合并，保留station_score_normalized字段\n",
    "result = pd.merge(data[data.columns], station_score_normalized[['station_uid', 'station_score_normalized']], on='station_uid')\n",
    "#3.2 站点可换成线路数量的归一化\n",
    "#3.3 站点包含站台数量的归一化\n",
    "result[['trans_lines_normalized',  'platform_normalized']] = scaler.fit_transform(result[['trans_count_final', 'platform_count_final']])\n"
   ]
  },
  {
   "cell_type": "code",
   "execution_count": 178,
   "metadata": {},
   "outputs": [],
   "source": [
    "#4. 站点去重--根据线路将站点归一化后的分数进行相加，得到最终的站点分数\n",
    "#4.1 根据线路名称，站点名称，城市code进行去重（目的是为了处理一个站点在双向上的重复计算，后续需要优化相同线路上不同站点分数的处理，'上海市14号线曹杨路站'）\n",
    "sub_dup = result.drop_duplicates(subset=['line_name_clean','station_name','ccode'])"
   ]
  },
  {
   "cell_type": "code",
   "execution_count": 192,
   "metadata": {},
   "outputs": [
    {
     "data": {
      "text/plain": [
       "Index(['station_uid', 'line_uid', 'line_name', 'station_name', 'stationid',\n",
       "       'poiid', 'pointx', 'pointy', 'poitype', 'trans', 'color', 'ccode',\n",
       "       'line_start_city', 'line_terminal_city', 'line_tag', 'expect_open_time',\n",
       "       'line_open_status', 'is_updown', 'nearby_lines', 'trans_lines_detail',\n",
       "       'trans_lines_count', 'station_index', 'stations_count',\n",
       "       'platform_count_final', 'line_name_clean', 'trans_count_final',\n",
       "       'station_score', 'station_score_normalized', 'trans_lines_normalized',\n",
       "       'platform_normalized'],\n",
       "      dtype='object')"
      ]
     },
     "execution_count": 192,
     "metadata": {},
     "output_type": "execute_result"
    }
   ],
   "source": [
    "sub_dup.columns"
   ]
  },
  {
   "cell_type": "code",
   "execution_count": 193,
   "metadata": {},
   "outputs": [],
   "source": [
    "station_final = sub_dup.groupby(['poiid','station_name','pointx','pointy','ccode']).agg({'station_score_normalized':np.sum,'trans_lines_normalized':np.average,'platform_normalized':np.average})"
   ]
  },
  {
   "cell_type": "code",
   "execution_count": 194,
   "metadata": {},
   "outputs": [
    {
     "ename": "KeyError",
     "evalue": "'station_name'",
     "output_type": "error",
     "traceback": [
      "\u001b[0;31m---------------------------------------------------------------------------\u001b[0m",
      "\u001b[0;31mKeyError\u001b[0m                                  Traceback (most recent call last)",
      "File \u001b[0;32m~/anaconda3/lib/python3.10/site-packages/pandas/core/indexes/base.py:3802\u001b[0m, in \u001b[0;36mIndex.get_loc\u001b[0;34m(self, key, method, tolerance)\u001b[0m\n\u001b[1;32m   3801\u001b[0m \u001b[39mtry\u001b[39;00m:\n\u001b[0;32m-> 3802\u001b[0m     \u001b[39mreturn\u001b[39;00m \u001b[39mself\u001b[39;49m\u001b[39m.\u001b[39;49m_engine\u001b[39m.\u001b[39;49mget_loc(casted_key)\n\u001b[1;32m   3803\u001b[0m \u001b[39mexcept\u001b[39;00m \u001b[39mKeyError\u001b[39;00m \u001b[39mas\u001b[39;00m err:\n",
      "File \u001b[0;32m~/anaconda3/lib/python3.10/site-packages/pandas/_libs/index.pyx:138\u001b[0m, in \u001b[0;36mpandas._libs.index.IndexEngine.get_loc\u001b[0;34m()\u001b[0m\n",
      "File \u001b[0;32m~/anaconda3/lib/python3.10/site-packages/pandas/_libs/index.pyx:165\u001b[0m, in \u001b[0;36mpandas._libs.index.IndexEngine.get_loc\u001b[0;34m()\u001b[0m\n",
      "File \u001b[0;32mpandas/_libs/hashtable_class_helper.pxi:5745\u001b[0m, in \u001b[0;36mpandas._libs.hashtable.PyObjectHashTable.get_item\u001b[0;34m()\u001b[0m\n",
      "File \u001b[0;32mpandas/_libs/hashtable_class_helper.pxi:5753\u001b[0m, in \u001b[0;36mpandas._libs.hashtable.PyObjectHashTable.get_item\u001b[0;34m()\u001b[0m\n",
      "\u001b[0;31mKeyError\u001b[0m: 'station_name'",
      "\nThe above exception was the direct cause of the following exception:\n",
      "\u001b[0;31mKeyError\u001b[0m                                  Traceback (most recent call last)",
      "Cell \u001b[0;32mIn[194], line 1\u001b[0m\n\u001b[0;32m----> 1\u001b[0m station_final[station_final[\u001b[39m'\u001b[39;49m\u001b[39mstation_name\u001b[39;49m\u001b[39m'\u001b[39;49m]\u001b[39m==\u001b[39m\u001b[39m'\u001b[39m\u001b[39m曹杨路\u001b[39m\u001b[39m'\u001b[39m]\n",
      "File \u001b[0;32m~/anaconda3/lib/python3.10/site-packages/pandas/core/frame.py:3807\u001b[0m, in \u001b[0;36mDataFrame.__getitem__\u001b[0;34m(self, key)\u001b[0m\n\u001b[1;32m   3805\u001b[0m \u001b[39mif\u001b[39;00m \u001b[39mself\u001b[39m\u001b[39m.\u001b[39mcolumns\u001b[39m.\u001b[39mnlevels \u001b[39m>\u001b[39m \u001b[39m1\u001b[39m:\n\u001b[1;32m   3806\u001b[0m     \u001b[39mreturn\u001b[39;00m \u001b[39mself\u001b[39m\u001b[39m.\u001b[39m_getitem_multilevel(key)\n\u001b[0;32m-> 3807\u001b[0m indexer \u001b[39m=\u001b[39m \u001b[39mself\u001b[39;49m\u001b[39m.\u001b[39;49mcolumns\u001b[39m.\u001b[39;49mget_loc(key)\n\u001b[1;32m   3808\u001b[0m \u001b[39mif\u001b[39;00m is_integer(indexer):\n\u001b[1;32m   3809\u001b[0m     indexer \u001b[39m=\u001b[39m [indexer]\n",
      "File \u001b[0;32m~/anaconda3/lib/python3.10/site-packages/pandas/core/indexes/base.py:3804\u001b[0m, in \u001b[0;36mIndex.get_loc\u001b[0;34m(self, key, method, tolerance)\u001b[0m\n\u001b[1;32m   3802\u001b[0m     \u001b[39mreturn\u001b[39;00m \u001b[39mself\u001b[39m\u001b[39m.\u001b[39m_engine\u001b[39m.\u001b[39mget_loc(casted_key)\n\u001b[1;32m   3803\u001b[0m \u001b[39mexcept\u001b[39;00m \u001b[39mKeyError\u001b[39;00m \u001b[39mas\u001b[39;00m err:\n\u001b[0;32m-> 3804\u001b[0m     \u001b[39mraise\u001b[39;00m \u001b[39mKeyError\u001b[39;00m(key) \u001b[39mfrom\u001b[39;00m \u001b[39merr\u001b[39;00m\n\u001b[1;32m   3805\u001b[0m \u001b[39mexcept\u001b[39;00m \u001b[39mTypeError\u001b[39;00m:\n\u001b[1;32m   3806\u001b[0m     \u001b[39m# If we have a listlike key, _check_indexing_error will raise\u001b[39;00m\n\u001b[1;32m   3807\u001b[0m     \u001b[39m#  InvalidIndexError. Otherwise we fall through and re-raise\u001b[39;00m\n\u001b[1;32m   3808\u001b[0m     \u001b[39m#  the TypeError.\u001b[39;00m\n\u001b[1;32m   3809\u001b[0m     \u001b[39mself\u001b[39m\u001b[39m.\u001b[39m_check_indexing_error(key)\n",
      "\u001b[0;31mKeyError\u001b[0m: 'station_name'"
     ]
    }
   ],
   "source": [
    "station_final[station_final['station_name']=='曹杨路']"
   ]
  },
  {
   "cell_type": "code",
   "execution_count": 190,
   "metadata": {},
   "outputs": [
    {
     "data": {
      "text/plain": [
       "Index(['station_score_normalized', 'trans_lines_normalized',\n",
       "       'platform_normalized'],\n",
       "      dtype='object')"
      ]
     },
     "execution_count": 190,
     "metadata": {},
     "output_type": "execute_result"
    }
   ],
   "source": [
    "station_final.columns"
   ]
  },
  {
   "cell_type": "code",
   "execution_count": 13,
   "metadata": {},
   "outputs": [],
   "source": [
    "#3. 关键指标归一化处理\n",
    "#4. 站台数量&换乘线路数量可以在全局范围进行归一化，因为这两个因素主要与站点本身相关度更高，与所在线路因素关联不大\n",
    "\n",
    "#V1权重：换乘线路数量0.4，站台数量0.2，站台评分0.3，线路长度0.1--效果不行\n",
    "#V2权重：换乘线路数量0.3，站台数量0.1，站台评分0.5，线路长度0.1--效果不行\n",
    "#V3修改位置:\n",
    "    #1. 去除线路长度stations_count_normalized入参，因为站点的分数已经受线路长度影响，已经在站点的分数里面直接体现了\n",
    "    #2. 站点分数逻辑修改：每条线路根据站点数量归一化后在赋值给每个站点分值\n",
    "#V3权重：换乘线路数量0.3，站台数量0.2，站台评分0.5\n",
    "#V4权重：换乘线路数量0.6，站台数量0.2，站台评分0.2\n",
    "\n",
    "result['final_score'] = result[['trans_lines_normalized', 'platform_normalized', 'station_score_normalized']].apply(\n",
    "    lambda row: row['trans_lines_normalized']*0.6+row['platform_normalized']*0.2+row['station_score_normalized']*0.2, axis=1)\n"
   ]
  },
  {
   "cell_type": "code",
   "execution_count": 66,
   "metadata": {},
   "outputs": [
    {
     "data": {
      "text/html": [
       "<div>\n",
       "<style scoped>\n",
       "    .dataframe tbody tr th:only-of-type {\n",
       "        vertical-align: middle;\n",
       "    }\n",
       "\n",
       "    .dataframe tbody tr th {\n",
       "        vertical-align: top;\n",
       "    }\n",
       "\n",
       "    .dataframe thead th {\n",
       "        text-align: right;\n",
       "    }\n",
       "</style>\n",
       "<table border=\"1\" class=\"dataframe\">\n",
       "  <thead>\n",
       "    <tr style=\"text-align: right;\">\n",
       "      <th></th>\n",
       "      <th>station_uid</th>\n",
       "      <th>line_uid</th>\n",
       "      <th>line_name</th>\n",
       "      <th>station_name</th>\n",
       "      <th>stationid</th>\n",
       "      <th>poiid</th>\n",
       "      <th>pointx</th>\n",
       "      <th>pointy</th>\n",
       "      <th>poitype</th>\n",
       "      <th>trans</th>\n",
       "      <th>...</th>\n",
       "      <th>is_updown</th>\n",
       "      <th>nearby_lines</th>\n",
       "      <th>trans_lines_detail</th>\n",
       "      <th>trans_lines_count</th>\n",
       "      <th>station_index</th>\n",
       "      <th>stations_count</th>\n",
       "      <th>platform_count</th>\n",
       "      <th>station_score</th>\n",
       "      <th>line_middle_score</th>\n",
       "      <th>station_score_normalized</th>\n",
       "    </tr>\n",
       "  </thead>\n",
       "  <tbody>\n",
       "    <tr>\n",
       "      <th>0</th>\n",
       "      <td>2199031507933</td>\n",
       "      <td>307385376810962399</td>\n",
       "      <td>地铁S1线</td>\n",
       "      <td>苹果园</td>\n",
       "      <td>2199031507936</td>\n",
       "      <td>2199031507934</td>\n",
       "      <td>116.179056</td>\n",
       "      <td>39.925409</td>\n",
       "      <td>2</td>\n",
       "      <td>1</td>\n",
       "      <td>...</td>\n",
       "      <td>1</td>\n",
       "      <td></td>\n",
       "      <td>['地铁6号线', '地铁1号线']</td>\n",
       "      <td>2</td>\n",
       "      <td>1</td>\n",
       "      <td>8</td>\n",
       "      <td>2.0</td>\n",
       "      <td>1.0</td>\n",
       "      <td>8.0</td>\n",
       "      <td>0.000000</td>\n",
       "    </tr>\n",
       "    <tr>\n",
       "      <th>1</th>\n",
       "      <td>13633567133705785539</td>\n",
       "      <td>307385376810962399</td>\n",
       "      <td>地铁S1线</td>\n",
       "      <td>金安桥</td>\n",
       "      <td>7495602811843933210</td>\n",
       "      <td>2199027905939</td>\n",
       "      <td>116.163120</td>\n",
       "      <td>39.923561</td>\n",
       "      <td>2</td>\n",
       "      <td>1</td>\n",
       "      <td>...</td>\n",
       "      <td>1</td>\n",
       "      <td></td>\n",
       "      <td>['地铁6号线', '地铁11号线', '地铁11号线延线']</td>\n",
       "      <td>3</td>\n",
       "      <td>2</td>\n",
       "      <td>8</td>\n",
       "      <td>3.0</td>\n",
       "      <td>2.0</td>\n",
       "      <td>8.0</td>\n",
       "      <td>0.142857</td>\n",
       "    </tr>\n",
       "    <tr>\n",
       "      <th>2</th>\n",
       "      <td>15120089943267423985</td>\n",
       "      <td>307385376810962399</td>\n",
       "      <td>地铁S1线</td>\n",
       "      <td>四道桥</td>\n",
       "      <td>5004943707258828498</td>\n",
       "      <td>12802089505195059245</td>\n",
       "      <td>116.134035</td>\n",
       "      <td>39.916014</td>\n",
       "      <td>2</td>\n",
       "      <td>0</td>\n",
       "      <td>...</td>\n",
       "      <td>1</td>\n",
       "      <td></td>\n",
       "      <td></td>\n",
       "      <td>0</td>\n",
       "      <td>3</td>\n",
       "      <td>8</td>\n",
       "      <td>1.0</td>\n",
       "      <td>3.0</td>\n",
       "      <td>8.0</td>\n",
       "      <td>0.285714</td>\n",
       "    </tr>\n",
       "    <tr>\n",
       "      <th>3</th>\n",
       "      <td>16366247463752411727</td>\n",
       "      <td>307385376810962399</td>\n",
       "      <td>地铁S1线</td>\n",
       "      <td>桥户营</td>\n",
       "      <td>9135925857181874376</td>\n",
       "      <td>16624646331218157303</td>\n",
       "      <td>116.125863</td>\n",
       "      <td>39.912391</td>\n",
       "      <td>2</td>\n",
       "      <td>0</td>\n",
       "      <td>...</td>\n",
       "      <td>1</td>\n",
       "      <td></td>\n",
       "      <td></td>\n",
       "      <td>0</td>\n",
       "      <td>4</td>\n",
       "      <td>8</td>\n",
       "      <td>1.0</td>\n",
       "      <td>4.0</td>\n",
       "      <td>8.0</td>\n",
       "      <td>0.428571</td>\n",
       "    </tr>\n",
       "    <tr>\n",
       "      <th>4</th>\n",
       "      <td>9345300275462916886</td>\n",
       "      <td>307385376810962399</td>\n",
       "      <td>地铁S1线</td>\n",
       "      <td>上岸</td>\n",
       "      <td>16582163415348437933</td>\n",
       "      <td>2199027905940</td>\n",
       "      <td>116.122221</td>\n",
       "      <td>39.905140</td>\n",
       "      <td>2</td>\n",
       "      <td>0</td>\n",
       "      <td>...</td>\n",
       "      <td>1</td>\n",
       "      <td></td>\n",
       "      <td></td>\n",
       "      <td>0</td>\n",
       "      <td>5</td>\n",
       "      <td>8</td>\n",
       "      <td>1.0</td>\n",
       "      <td>5.0</td>\n",
       "      <td>8.0</td>\n",
       "      <td>0.571429</td>\n",
       "    </tr>\n",
       "  </tbody>\n",
       "</table>\n",
       "<p>5 rows × 27 columns</p>\n",
       "</div>"
      ],
      "text/plain": [
       "            station_uid            line_uid line_name station_name  \\\n",
       "0         2199031507933  307385376810962399     地铁S1线          苹果园   \n",
       "1  13633567133705785539  307385376810962399     地铁S1线          金安桥   \n",
       "2  15120089943267423985  307385376810962399     地铁S1线          四道桥   \n",
       "3  16366247463752411727  307385376810962399     地铁S1线          桥户营   \n",
       "4   9345300275462916886  307385376810962399     地铁S1线           上岸   \n",
       "\n",
       "              stationid                 poiid      pointx     pointy  poitype  \\\n",
       "0         2199031507936         2199031507934  116.179056  39.925409        2   \n",
       "1   7495602811843933210         2199027905939  116.163120  39.923561        2   \n",
       "2   5004943707258828498  12802089505195059245  116.134035  39.916014        2   \n",
       "3   9135925857181874376  16624646331218157303  116.125863  39.912391        2   \n",
       "4  16582163415348437933         2199027905940  116.122221  39.905140        2   \n",
       "\n",
       "   trans  ... is_updown  nearby_lines               trans_lines_detail  \\\n",
       "0      1  ...         1                             ['地铁6号线', '地铁1号线']   \n",
       "1      1  ...         1                ['地铁6号线', '地铁11号线', '地铁11号线延线']   \n",
       "2      0  ...         1                                                  \n",
       "3      0  ...         1                                                  \n",
       "4      0  ...         1                                                  \n",
       "\n",
       "   trans_lines_count station_index stations_count  platform_count  \\\n",
       "0                  2             1              8             2.0   \n",
       "1                  3             2              8             3.0   \n",
       "2                  0             3              8             1.0   \n",
       "3                  0             4              8             1.0   \n",
       "4                  0             5              8             1.0   \n",
       "\n",
       "   station_score line_middle_score station_score_normalized  \n",
       "0            1.0               8.0                 0.000000  \n",
       "1            2.0               8.0                 0.142857  \n",
       "2            3.0               8.0                 0.285714  \n",
       "3            4.0               8.0                 0.428571  \n",
       "4            5.0               8.0                 0.571429  \n",
       "\n",
       "[5 rows x 27 columns]"
      ]
     },
     "execution_count": 66,
     "metadata": {},
     "output_type": "execute_result"
    }
   ],
   "source": [
    "result.head(5)"
   ]
  },
  {
   "cell_type": "code",
   "execution_count": 14,
   "metadata": {},
   "outputs": [],
   "source": [
    "# result.to_csv('./subway_station_final_score-V4{0}.csv'.format(shijian))"
   ]
  },
  {
   "cell_type": "code",
   "execution_count": 67,
   "metadata": {},
   "outputs": [],
   "source": [
    "# result.to_excel(\"D:/Desktop/station20230601.xlsx\")"
   ]
  },
  {
   "cell_type": "code",
   "execution_count": 16,
   "metadata": {},
   "outputs": [],
   "source": []
  },
  {
   "cell_type": "code",
   "execution_count": 17,
   "metadata": {},
   "outputs": [],
   "source": []
  }
 ],
 "metadata": {
  "kernelspec": {
   "display_name": "base",
   "language": "python",
   "name": "python3"
  },
  "language_info": {
   "codemirror_mode": {
    "name": "ipython",
    "version": 3
   },
   "file_extension": ".py",
   "mimetype": "text/x-python",
   "name": "python",
   "nbconvert_exporter": "python",
   "pygments_lexer": "ipython3",
   "version": "3.10.9"
  },
  "orig_nbformat": 4
 },
 "nbformat": 4,
 "nbformat_minor": 2
}
